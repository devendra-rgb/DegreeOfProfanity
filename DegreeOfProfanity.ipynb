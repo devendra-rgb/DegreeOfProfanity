{
 "cells": [
  {
   "cell_type": "markdown",
   "id": "c315854a",
   "metadata": {},
   "source": [
    "#### Imagine there is a file full of Twitter tweets by various users and you are provided a set of words that indicates racial slurs. Write a program that can indicate the degree of profanity for each sentence in the file. Write in any programming language (preferably in Python"
   ]
  },
  {
   "cell_type": "code",
   "execution_count": 20,
   "id": "0d1443f6",
   "metadata": {},
   "outputs": [],
   "source": [
    "#The task is to build a degree of  profanity for each sentence with some set of words\n",
    "#let's assume soem set of words"
   ]
  },
  {
   "cell_type": "code",
   "execution_count": 24,
   "id": "da18a307",
   "metadata": {},
   "outputs": [],
   "source": [
    "racial_slurs= [\"idot\", \"stupid\", \"black\",\"shit\"]\n",
    "#the tweets are saved in a file called tweet.txt"
   ]
  },
  {
   "cell_type": "code",
   "execution_count": 31,
   "id": "8c9c9ca0",
   "metadata": {},
   "outputs": [],
   "source": [
    "def degreeOfProfanity(sentence,racial_slurs):\n",
    "    words=sentence.split(\" \") #splitting the words using white space\n",
    "    print(words)\n",
    "    total=len(words)\n",
    "    bad_words=0\n",
    "    for i in words:\n",
    "        if i.lower() in racial_slurs: #making the words to smaller as the tweets are case sensetive\n",
    "            bad_words+=1\n",
    "    degree=bad_words/total\n",
    "    return degree"
   ]
  },
  {
   "cell_type": "code",
   "execution_count": 40,
   "id": "a8f79a52",
   "metadata": {},
   "outputs": [],
   "source": [
    "with open ('tweet.txt',\"r\") as f:\n",
    "    tweets=f.readlines()\n",
    "\n"
   ]
  },
  {
   "cell_type": "code",
   "execution_count": 41,
   "id": "1c1ae93d",
   "metadata": {},
   "outputs": [
    {
     "name": "stdout",
     "output_type": "stream",
     "text": [
      "['Hi', 'how', 'are', 'you', 'idot']\n",
      "0.2\n",
      "['I', 'am', 'fine', 'shit']\n",
      "0.25\n",
      "['Idot']\n",
      "1.0\n"
     ]
    }
   ],
   "source": [
    "for tweet in tweets:\n",
    "    print(degreeOfProfanity(tweet.strip(),racial_slurs)) ## using strip function to remove new line character \n",
    "    "
   ]
  },
  {
   "cell_type": "code",
   "execution_count": null,
   "id": "a4cdb155",
   "metadata": {},
   "outputs": [],
   "source": []
  }
 ],
 "metadata": {
  "kernelspec": {
   "display_name": "Python 3",
   "language": "python",
   "name": "python3"
  },
  "language_info": {
   "codemirror_mode": {
    "name": "ipython",
    "version": 3
   },
   "file_extension": ".py",
   "mimetype": "text/x-python",
   "name": "python",
   "nbconvert_exporter": "python",
   "pygments_lexer": "ipython3",
   "version": "3.8.8"
  }
 },
 "nbformat": 4,
 "nbformat_minor": 5
}
